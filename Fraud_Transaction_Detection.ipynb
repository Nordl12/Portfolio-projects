{
 "cells": [
  {
   "cell_type": "code",
   "execution_count": 3,
   "metadata": {
    "collapsed": true
   },
   "outputs": [
    {
     "name": "stderr",
     "output_type": "stream",
     "text": [
      "Warning message:\n",
      "\"package 'corrplot' was built under R version 3.6.3\"corrplot 0.84 loaded\n",
      "Warning message:\n",
      "\"package 'pROC' was built under R version 3.6.3\"Type 'citation(\"pROC\")' for a citation.\n",
      "\n",
      "Attaching package: 'pROC'\n",
      "\n",
      "The following objects are masked from 'package:stats':\n",
      "\n",
      "    cov, smooth, var\n",
      "\n",
      "Warning message:\n",
      "\"package 'e1071' was built under R version 3.6.3\"Warning message:\n",
      "\"package 'rpart.plot' was built under R version 3.6.3\""
     ]
    }
   ],
   "source": [
    "library(ggplot2)\n",
    "library(caret)\n",
    "library(corrplot)\n",
    "library(pROC)\n",
    "library(class)\n",
    "library(e1071)\n",
    "library(rpart)\n",
    "library(rpart.plot)"
   ]
  },
  {
   "cell_type": "markdown",
   "metadata": {},
   "source": [
    "# Credit Card Fraud Detection"
   ]
  },
  {
   "cell_type": "markdown",
   "metadata": {},
   "source": [
    "## Introduction\n",
    "In this kernel we will use four predictive models to see how accurately they can detect and classify a normal transaction or a fraud. As described in the dataset page, all features except \"Time\" and \"Amount\" are scaled and the names of the features are not shown due to privacy reasons. The main goal of this work is to find the best classification model out of 4. The models are loggistic regression, k-nearest neighbours, support vector machine and decision tree."
   ]
  },
  {
   "cell_type": "markdown",
   "metadata": {},
   "source": [
    "## References\n",
    "\n",
    "Link to the data set: https://www.kaggle.com/mlg-ulb/creditcardfraud"
   ]
  },
  {
   "cell_type": "markdown",
   "metadata": {},
   "source": [
    "## Data Processing\n",
    "\n",
    "After the dataset was downloaded let's set the working directory and read the dataset:"
   ]
  },
  {
   "cell_type": "code",
   "execution_count": 4,
   "metadata": {
    "scrolled": true
   },
   "outputs": [],
   "source": [
    "setwd(\"...ML_exam/\")"
   ]
  },
  {
   "cell_type": "code",
   "execution_count": 5,
   "metadata": {},
   "outputs": [],
   "source": [
    "credit.data <- read.csv(\"creditcard.csv\")"
   ]
  },
  {
   "cell_type": "markdown",
   "metadata": {},
   "source": [
    "Let's see if the dataset was read correctly, and then familiarise with it a bit."
   ]
  },
  {
   "cell_type": "code",
   "execution_count": 13,
   "metadata": {
    "collapsed": true
   },
   "outputs": [
    {
     "data": {
      "text/html": [
       "<ol class=list-inline>\n",
       "\t<li>'Time'</li>\n",
       "\t<li>'V1'</li>\n",
       "\t<li>'V2'</li>\n",
       "\t<li>'V3'</li>\n",
       "\t<li>'V4'</li>\n",
       "\t<li>'V5'</li>\n",
       "\t<li>'V6'</li>\n",
       "\t<li>'V7'</li>\n",
       "\t<li>'V8'</li>\n",
       "\t<li>'V9'</li>\n",
       "\t<li>'V10'</li>\n",
       "\t<li>'V11'</li>\n",
       "\t<li>'V12'</li>\n",
       "\t<li>'V13'</li>\n",
       "\t<li>'V14'</li>\n",
       "\t<li>'V15'</li>\n",
       "\t<li>'V16'</li>\n",
       "\t<li>'V17'</li>\n",
       "\t<li>'V18'</li>\n",
       "\t<li>'V19'</li>\n",
       "\t<li>'V20'</li>\n",
       "\t<li>'V21'</li>\n",
       "\t<li>'V22'</li>\n",
       "\t<li>'V23'</li>\n",
       "\t<li>'V24'</li>\n",
       "\t<li>'V25'</li>\n",
       "\t<li>'V26'</li>\n",
       "\t<li>'V27'</li>\n",
       "\t<li>'V28'</li>\n",
       "\t<li>'Amount'</li>\n",
       "\t<li>'Class'</li>\n",
       "</ol>\n"
      ],
      "text/latex": [
       "\\begin{enumerate*}\n",
       "\\item 'Time'\n",
       "\\item 'V1'\n",
       "\\item 'V2'\n",
       "\\item 'V3'\n",
       "\\item 'V4'\n",
       "\\item 'V5'\n",
       "\\item 'V6'\n",
       "\\item 'V7'\n",
       "\\item 'V8'\n",
       "\\item 'V9'\n",
       "\\item 'V10'\n",
       "\\item 'V11'\n",
       "\\item 'V12'\n",
       "\\item 'V13'\n",
       "\\item 'V14'\n",
       "\\item 'V15'\n",
       "\\item 'V16'\n",
       "\\item 'V17'\n",
       "\\item 'V18'\n",
       "\\item 'V19'\n",
       "\\item 'V20'\n",
       "\\item 'V21'\n",
       "\\item 'V22'\n",
       "\\item 'V23'\n",
       "\\item 'V24'\n",
       "\\item 'V25'\n",
       "\\item 'V26'\n",
       "\\item 'V27'\n",
       "\\item 'V28'\n",
       "\\item 'Amount'\n",
       "\\item 'Class'\n",
       "\\end{enumerate*}\n"
      ],
      "text/markdown": [
       "1. 'Time'\n",
       "2. 'V1'\n",
       "3. 'V2'\n",
       "4. 'V3'\n",
       "5. 'V4'\n",
       "6. 'V5'\n",
       "7. 'V6'\n",
       "8. 'V7'\n",
       "9. 'V8'\n",
       "10. 'V9'\n",
       "11. 'V10'\n",
       "12. 'V11'\n",
       "13. 'V12'\n",
       "14. 'V13'\n",
       "15. 'V14'\n",
       "16. 'V15'\n",
       "17. 'V16'\n",
       "18. 'V17'\n",
       "19. 'V18'\n",
       "20. 'V19'\n",
       "21. 'V20'\n",
       "22. 'V21'\n",
       "23. 'V22'\n",
       "24. 'V23'\n",
       "25. 'V24'\n",
       "26. 'V25'\n",
       "27. 'V26'\n",
       "28. 'V27'\n",
       "29. 'V28'\n",
       "30. 'Amount'\n",
       "31. 'Class'\n",
       "\n",
       "\n"
      ],
      "text/plain": [
       " [1] \"Time\"   \"V1\"     \"V2\"     \"V3\"     \"V4\"     \"V5\"     \"V6\"     \"V7\"    \n",
       " [9] \"V8\"     \"V9\"     \"V10\"    \"V11\"    \"V12\"    \"V13\"    \"V14\"    \"V15\"   \n",
       "[17] \"V16\"    \"V17\"    \"V18\"    \"V19\"    \"V20\"    \"V21\"    \"V22\"    \"V23\"   \n",
       "[25] \"V24\"    \"V25\"    \"V26\"    \"V27\"    \"V28\"    \"Amount\" \"Class\" "
      ]
     },
     "metadata": {},
     "output_type": "display_data"
    }
   ],
   "source": [
    "names(credit.data)"
   ]
  },
  {
   "cell_type": "code",
   "execution_count": 14,
   "metadata": {
    "collapsed": true
   },
   "outputs": [
    {
     "name": "stdout",
     "output_type": "stream",
     "text": [
      "'data.frame':\t284807 obs. of  31 variables:\n",
      " $ Time  : num  0 0 1 1 2 2 4 7 7 9 ...\n",
      " $ V1    : num  -1.36 1.192 -1.358 -0.966 -1.158 ...\n",
      " $ V2    : num  -0.0728 0.2662 -1.3402 -0.1852 0.8777 ...\n",
      " $ V3    : num  2.536 0.166 1.773 1.793 1.549 ...\n",
      " $ V4    : num  1.378 0.448 0.38 -0.863 0.403 ...\n",
      " $ V5    : num  -0.3383 0.06 -0.5032 -0.0103 -0.4072 ...\n",
      " $ V6    : num  0.4624 -0.0824 1.8005 1.2472 0.0959 ...\n",
      " $ V7    : num  0.2396 -0.0788 0.7915 0.2376 0.5929 ...\n",
      " $ V8    : num  0.0987 0.0851 0.2477 0.3774 -0.2705 ...\n",
      " $ V9    : num  0.364 -0.255 -1.515 -1.387 0.818 ...\n",
      " $ V10   : num  0.0908 -0.167 0.2076 -0.055 0.7531 ...\n",
      " $ V11   : num  -0.552 1.613 0.625 -0.226 -0.823 ...\n",
      " $ V12   : num  -0.6178 1.0652 0.0661 0.1782 0.5382 ...\n",
      " $ V13   : num  -0.991 0.489 0.717 0.508 1.346 ...\n",
      " $ V14   : num  -0.311 -0.144 -0.166 -0.288 -1.12 ...\n",
      " $ V15   : num  1.468 0.636 2.346 -0.631 0.175 ...\n",
      " $ V16   : num  -0.47 0.464 -2.89 -1.06 -0.451 ...\n",
      " $ V17   : num  0.208 -0.115 1.11 -0.684 -0.237 ...\n",
      " $ V18   : num  0.0258 -0.1834 -0.1214 1.9658 -0.0382 ...\n",
      " $ V19   : num  0.404 -0.146 -2.262 -1.233 0.803 ...\n",
      " $ V20   : num  0.2514 -0.0691 0.525 -0.208 0.4085 ...\n",
      " $ V21   : num  -0.01831 -0.22578 0.248 -0.1083 -0.00943 ...\n",
      " $ V22   : num  0.27784 -0.63867 0.77168 0.00527 0.79828 ...\n",
      " $ V23   : num  -0.11 0.101 0.909 -0.19 -0.137 ...\n",
      " $ V24   : num  0.0669 -0.3398 -0.6893 -1.1756 0.1413 ...\n",
      " $ V25   : num  0.129 0.167 -0.328 0.647 -0.206 ...\n",
      " $ V26   : num  -0.189 0.126 -0.139 -0.222 0.502 ...\n",
      " $ V27   : num  0.13356 -0.00898 -0.05535 0.06272 0.21942 ...\n",
      " $ V28   : num  -0.0211 0.0147 -0.0598 0.0615 0.2152 ...\n",
      " $ Amount: num  149.62 2.69 378.66 123.5 69.99 ...\n",
      " $ Class : int  0 0 0 0 0 0 0 0 0 0 ...\n"
     ]
    }
   ],
   "source": [
    "str(credit.data)"
   ]
  },
  {
   "cell_type": "code",
   "execution_count": 15,
   "metadata": {},
   "outputs": [
    {
     "data": {
      "text/html": [
       "0"
      ],
      "text/latex": [
       "0"
      ],
      "text/markdown": [
       "0"
      ],
      "text/plain": [
       "[1] 0"
      ]
     },
     "metadata": {},
     "output_type": "display_data"
    }
   ],
   "source": [
    "sum(is.na(credit.data))"
   ]
  },
  {
   "cell_type": "markdown",
   "metadata": {},
   "source": [
    "Except for the transaction and amount we don't know what the other columns are. The only thing we know, is that those columns, that are unknown, have already been scaled. Time is a linearly increasing vector, so we should exclude it from our analysis. Amount is a numeric variable, so in order to analyse it we need to normalise it as well."
   ]
  },
  {
   "cell_type": "code",
   "execution_count": 6,
   "metadata": {},
   "outputs": [],
   "source": [
    "credit.data$norm.amount <- scale(credit.data$Amount)\n",
    "credit.data <- credit.data[,c(-1,-30)]"
   ]
  },
  {
   "cell_type": "markdown",
   "metadata": {},
   "source": [
    "It is not hard to imagine that our Class variable is imbalanced, since the proportion of credit card fraud is low in our daily life."
   ]
  },
  {
   "cell_type": "code",
   "execution_count": 5,
   "metadata": {},
   "outputs": [
    {
     "data": {
      "text/html": [
       "<dl class=dl-horizontal>\n",
       "\t<dt>0</dt>\n",
       "\t\t<dd>284315</dd>\n",
       "\t<dt>1</dt>\n",
       "\t\t<dd>492</dd>\n",
       "</dl>\n"
      ],
      "text/latex": [
       "\\begin{description*}\n",
       "\\item[0] 284315\n",
       "\\item[1] 492\n",
       "\\end{description*}\n"
      ],
      "text/markdown": [
       "0\n",
       ":   2843151\n",
       ":   492\n",
       "\n"
      ],
      "text/plain": [
       "     0      1 \n",
       "284315    492 "
      ]
     },
     "metadata": {},
     "output_type": "display_data"
    }
   ],
   "source": [
    "summary(as.factor(credit.data$Class))"
   ]
  },
  {
   "cell_type": "code",
   "execution_count": 26,
   "metadata": {
    "collapsed": true
   },
   "outputs": [
    {
     "data": {
      "image/png": "[encoded data removed]",
      "text/plain": [
       "plot without title"
      ]
     },
     "metadata": {},
     "output_type": "display_data"
    }
   ],
   "source": [
    "ggplot(data = credit.data, aes(as.factor(Class))) +\n",
    "  geom_bar(color = \"black\", fill = c(\"blue\", \"red\")) +\n",
    "  theme(plot.title = element_text(hjust = 0.5))+\n",
    "  xlab(\"Class\") +\n",
    "  ylab(\"Count\")+\n",
    "  ggtitle(label = \" Class Distributions \\n (0: No Fraud, 1: Fraud)\")"
   ]
  },
  {
   "cell_type": "markdown",
   "metadata": {},
   "source": [
    "## Random Under-Sampling:\n",
    "\n",
    "Due to the fact that our dataframe is very imbalanced we can't proceed with conducting an analysis immediately. For that reason we will implement a method named \"Random Under-Sampling\", which basically consists of random deleting samples from the majority class in order to equalise the number of observations to that in the minority class. Upon implementing this method, we will have a sub-sample of our dataframe with a 50/50 (492/492) ratio with regards to our classes."
   ]
  },
  {
   "cell_type": "code",
   "execution_count": 7,
   "metadata": {},
   "outputs": [
    {
     "data": {
      "text/html": [
       "<dl class=dl-horizontal>\n",
       "\t<dt>0</dt>\n",
       "\t\t<dd>492</dd>\n",
       "\t<dt>1</dt>\n",
       "\t\t<dd>492</dd>\n",
       "</dl>\n"
      ],
      "text/latex": [
       "\\begin{description*}\n",
       "\\item[0] 492\n",
       "\\item[1] 492\n",
       "\\end{description*}\n"
      ],
      "text/markdown": [
       "0\n",
       ":   4921\n",
       ":   492\n",
       "\n"
      ],
      "text/plain": [
       "  0   1 \n",
       "492 492 "
      ]
     },
     "metadata": {},
     "output_type": "display_data"
    }
   ],
   "source": [
    "set.seed(12345)\n",
    "\n",
    "index <- createDataPartition(which(credit.data$Class == 0), p = 0.1, list = FALSE, times = 1)\n",
    "\n",
    "sampled.data <- credit.data[c(index[1:492], which(credit.data$Class == 1)),]\n",
    "\n",
    "summary(as.factor(sampled.data$Class))"
   ]
  },
  {
   "cell_type": "markdown",
   "metadata": {},
   "source": [
    "## Correlation Matrices\n",
    "\n",
    "Correlation matrices are crucial to understanding our data, just because they can show us which variables are in any relation with Class. We want to know if there are features that strongly indicate whether a particular transaction is a fraud. "
   ]
  },
  {
   "cell_type": "code",
   "execution_count": 10,
   "metadata": {
    "collapsed": true
   },
   "outputs": [
    {
     "data": {
      "image/png": "[encoded data removed]",
      "text/plain": [
       "Plot with title \"\""
      ]
     },
     "metadata": {},
     "output_type": "display_data"
    }
   ],
   "source": [
    "# Correlation matrix of imbalanced data\n",
    "\n",
    "correlations.credit <- cor(credit.data, method=\"pearson\")\n",
    "\n",
    "corrplot(correlations.credit, method = \"square\", type = \"upper\",\n",
    "         tl.cex=0.8, tl.col = \"black\")"
   ]
  },
  {
   "cell_type": "code",
   "execution_count": 11,
   "metadata": {
    "collapsed": true
   },
   "outputs": [
    {
     "data": {
      "image/png": "[encoded data removed]",
      "text/plain": [
       "Plot with title \"\""
      ]
     },
     "metadata": {},
     "output_type": "display_data"
    }
   ],
   "source": [
    "# Correlation matrix of sampled data\n",
    "\n",
    "correlations.sampled <- cor(sampled.data, method=\"pearson\")\n",
    "\n",
    "corrplot(correlations.sampled, method = \"square\", type = \"upper\",\n",
    "         tl.cex=0.8, tl.col = \"black\")"
   ]
  },
  {
   "cell_type": "markdown",
   "metadata": {},
   "source": [
    "As we have seen, there are fewer correlations in the imbalanced data matrix and they are weaker. That is the reason why we should explain the sampled data matrix result.\n",
    "\n",
    "Summary:\n",
    "\n",
    "Positive Correlations: V4, V11, and V19 are positively correlated. Notice how the higher these values are (especially V4), the more likely the end result will be a fraudulent transaction.\n",
    "Negative Correlations: V3, V10, V12, V14, V16 and V17  are negatively correlated. Notice how the lower these values are, the more likely the end result will be a fraudulent transaction.\n"
   ]
  },
  {
   "cell_type": "markdown",
   "metadata": {},
   "source": [
    "## Train - test spliting\n",
    "Now we can split our sampled data to train and test samples."
   ]
  },
  {
   "cell_type": "code",
   "execution_count": 18,
   "metadata": {},
   "outputs": [],
   "source": [
    "set.seed(12345)\n",
    "\n",
    "trainIndex <- createDataPartition(sampled.data$Class, p = .8,\n",
    "                                  list = FALSE,\n",
    "                                  times = 1)\n",
    "\n",
    "sampled.data.train <- sampled.data[trainIndex,]\n",
    "sampled.data.test <- sampled.data[-trainIndex,]"
   ]
  },
  {
   "cell_type": "markdown",
   "metadata": {},
   "source": [
    "## Data Modeling\n",
    "\n",
    "Now we can conduct our analysis and on the basis of the highest recall score choose the best classification model."
   ]
  },
  {
   "cell_type": "markdown",
   "metadata": {},
   "source": [
    "### Logistic regression"
   ]
  },
  {
   "cell_type": "code",
   "execution_count": 19,
   "metadata": {
    "collapsed": true
   },
   "outputs": [
    {
     "name": "stderr",
     "output_type": "stream",
     "text": [
      "Warning message:\n",
      "\"glm.fit: algorithm did not converge\"Warning message:\n",
      "\"glm.fit: fitted probabilities numerically 0 or 1 occurred\""
     ]
    },
    {
     "data": {
      "text/plain": [
       "\n",
       "Call:\n",
       "glm(formula = Class ~ ., family = \"binomial\", data = sampled.data.train)\n",
       "\n",
       "Deviance Residuals: \n",
       "    Min       1Q   Median       3Q      Max  \n",
       "-3.4389  -0.1644   0.0000   0.0000   2.8162  \n",
       "\n",
       "Coefficients:\n",
       "            Estimate Std. Error z value Pr(>|z|)\n",
       "(Intercept)   -9.212     29.650  -0.311    0.756\n",
       "V1            18.265     67.106   0.272    0.785\n",
       "V2           167.507    454.859   0.368    0.713\n",
       "V3           -74.957    176.272  -0.425    0.671\n",
       "V4            58.021    143.680   0.404    0.686\n",
       "V5            -1.667     17.108  -0.097    0.922\n",
       "V6           -76.776    206.864  -0.371    0.711\n",
       "V7          -268.863    712.430  -0.377    0.706\n",
       "V8            46.768    120.940   0.387    0.699\n",
       "V9           -84.609    217.495  -0.389    0.697\n",
       "V10         -194.293    500.004  -0.389    0.698\n",
       "V11          161.189    424.467   0.380    0.704\n",
       "V12         -290.720    762.329  -0.381    0.703\n",
       "V13           -7.256     20.096  -0.361    0.718\n",
       "V14         -315.858    832.041  -0.380    0.704\n",
       "V15          -11.310     29.728  -0.380    0.704\n",
       "V16         -278.956    734.033  -0.380    0.704\n",
       "V17         -491.109   1288.111  -0.381    0.703\n",
       "V18         -187.185    492.322  -0.380    0.704\n",
       "V19           76.665    204.257   0.375    0.707\n",
       "V20          -48.707    138.316  -0.352    0.725\n",
       "V21           13.952     33.171   0.421    0.674\n",
       "V22           34.374     90.455   0.380    0.704\n",
       "V23           98.077    273.327   0.359    0.720\n",
       "V24           -9.878     26.056  -0.379    0.705\n",
       "V25           44.275    124.547   0.355    0.722\n",
       "V26           11.490     31.361   0.366    0.714\n",
       "V27           35.661     97.778   0.365    0.715\n",
       "V28          118.306    331.683   0.357    0.721\n",
       "norm.amount  283.208    790.144   0.358    0.720\n",
       "\n",
       "(Dispersion parameter for binomial family taken to be 1)\n",
       "\n",
       "    Null deviance: 1092.40  on 787  degrees of freedom\n",
       "Residual deviance:  151.87  on 758  degrees of freedom\n",
       "AIC: 211.87\n",
       "\n",
       "Number of Fisher Scoring iterations: 25\n"
      ]
     },
     "metadata": {},
     "output_type": "display_data"
    }
   ],
   "source": [
    "log.model <- glm(Class ~ ., sampled.data.train, family = \"binomial\")\n",
    "\n",
    "summary(log.model)\n",
    "\n",
    "log.predict <- predict(log.model, newdata = sampled.data.train, type = \"response\") \n",
    "\n",
    "log.fitted.results <- ifelse(log.predict > 0.5,\"1\",\"0\")\n",
    "\n",
    "log.cm <- confusionMatrix(data=as.factor(log.fitted.results), \n",
    "                      reference = as.factor(sampled.data.train$Class))"
   ]
  },
  {
   "cell_type": "markdown",
   "metadata": {},
   "source": [
    "We see that all variables have a statistically insignificant effect on the target variable. This is likely due to the small sample size."
   ]
  },
  {
   "cell_type": "code",
   "execution_count": 37,
   "metadata": {
    "collapsed": true
   },
   "outputs": [
    {
     "data": {
      "text/plain": [
       "Confusion Matrix and Statistics\n",
       "\n",
       "          Reference\n",
       "Prediction   0   1\n",
       "         0 388  18\n",
       "         1   6 376\n",
       "                                         \n",
       "               Accuracy : 0.9695         \n",
       "                 95% CI : (0.955, 0.9804)\n",
       "    No Information Rate : 0.5            \n",
       "    P-Value [Acc > NIR] : < 2e-16        \n",
       "                                         \n",
       "                  Kappa : 0.9391         \n",
       "                                         \n",
       " Mcnemar's Test P-Value : 0.02474        \n",
       "                                         \n",
       "            Sensitivity : 0.9848         \n",
       "            Specificity : 0.9543         \n",
       "         Pos Pred Value : 0.9557         \n",
       "         Neg Pred Value : 0.9843         \n",
       "             Prevalence : 0.5000         \n",
       "         Detection Rate : 0.4924         \n",
       "   Detection Prevalence : 0.5152         \n",
       "      Balanced Accuracy : 0.9695         \n",
       "                                         \n",
       "       'Positive' Class : 0              \n",
       "                                         "
      ]
     },
     "metadata": {},
     "output_type": "display_data"
    }
   ],
   "source": [
    "log.cm"
   ]
  },
  {
   "cell_type": "markdown",
   "metadata": {},
   "source": [
    "For a better presentation, we can plot the ROC curve for the logistic model."
   ]
  },
  {
   "cell_type": "code",
   "execution_count": 34,
   "metadata": {
    "collapsed": true
   },
   "outputs": [
    {
     "name": "stderr",
     "output_type": "stream",
     "text": [
      "Setting levels: control = 0, case = 1\n",
      "Setting direction: controls < cases\n"
     ]
    },
    {
     "data": {
      "image/png": "[encoded data removed]",
      "text/plain": [
       "plot without title"
      ]
     },
     "metadata": {},
     "output_type": "display_data"
    }
   ],
   "source": [
    "log.roc <- roc(log.fitted.results, sampled.data.train$Class)\n",
    "ggroc(log.roc, colour = \"red\", linetype = 2)\n",
    "options(repr.plot.width= 4, repr.plot.height=3)"
   ]
  },
  {
   "cell_type": "markdown",
   "metadata": {},
   "source": [
    "### k-Nearest Neighbor"
   ]
  },
  {
   "cell_type": "code",
   "execution_count": 35,
   "metadata": {
    "collapsed": true
   },
   "outputs": [
    {
     "data": {
      "text/plain": [
       "k-Nearest Neighbors \n",
       "\n",
       "788 samples\n",
       " 29 predictor\n",
       "  2 classes: '0', '1' \n",
       "\n",
       "No pre-processing\n",
       "Resampling: Bootstrapped (25 reps) \n",
       "Summary of sample sizes: 788, 788, 788, 788, 788, 788, ... \n",
       "Resampling results across tuning parameters:\n",
       "\n",
       "  k   Accuracy   Kappa    \n",
       "   5  0.9385401  0.8769925\n",
       "   7  0.9376821  0.8753101\n",
       "   9  0.9374715  0.8748752\n",
       "  11  0.9377564  0.8754466\n",
       "  13  0.9363786  0.8727002\n",
       "  15  0.9360857  0.8721547\n",
       "  17  0.9351094  0.8702197\n",
       "  19  0.9344331  0.8688542\n",
       "  21  0.9325126  0.8650294\n",
       "  23  0.9311244  0.8622563\n",
       "  25  0.9307131  0.8614332\n",
       "  27  0.9301459  0.8603037\n",
       "  29  0.9283678  0.8567401\n",
       "  31  0.9282292  0.8564662\n",
       "  33  0.9283797  0.8567736\n",
       "  35  0.9278203  0.8556633\n",
       "  37  0.9279670  0.8559478\n",
       "  39  0.9275339  0.8550789\n",
       "  41  0.9271422  0.8542858\n",
       "  43  0.9269785  0.8539661\n",
       "\n",
       "Accuracy was used to select the optimal model using the largest value.\n",
       "The final value used for the model was k = 5."
      ]
     },
     "metadata": {},
     "output_type": "display_data"
    }
   ],
   "source": [
    "sampled.data.train$Class <- as.factor(sampled.data.train$Class)\n",
    "\n",
    "set.seed(12345)\n",
    "\n",
    "knn.model <- train(Class ~ ., data = sampled.data.train,\n",
    "               method = 'knn', tuneLength = 20)\n",
    "\n",
    "knn.model"
   ]
  },
  {
   "cell_type": "markdown",
   "metadata": {},
   "source": [
    "The algorithm found that k=5 as more optimal than the other number of k, let's show it."
   ]
  },
  {
   "cell_type": "code",
   "execution_count": 77,
   "metadata": {
    "collapsed": true
   },
   "outputs": [
    {
     "data": {
      "image/png": "[encoded data removed]",
      "text/plain": [
       "plot without title"
      ]
     },
     "metadata": {},
     "output_type": "display_data"
    }
   ],
   "source": [
    "plot(knn.model, xlim= c(0, 50))"
   ]
  },
  {
   "cell_type": "code",
   "execution_count": 36,
   "metadata": {
    "collapsed": true
   },
   "outputs": [
    {
     "data": {
      "text/plain": [
       "Confusion Matrix and Statistics\n",
       "\n",
       "          Reference\n",
       "Prediction   0   1\n",
       "         0 392  30\n",
       "         1   2 364\n",
       "                                          \n",
       "               Accuracy : 0.9594          \n",
       "                 95% CI : (0.9432, 0.9721)\n",
       "    No Information Rate : 0.5             \n",
       "    P-Value [Acc > NIR] : < 2.2e-16       \n",
       "                                          \n",
       "                  Kappa : 0.9188          \n",
       "                                          \n",
       " Mcnemar's Test P-Value : 1.815e-06       \n",
       "                                          \n",
       "            Sensitivity : 0.9949          \n",
       "            Specificity : 0.9239          \n",
       "         Pos Pred Value : 0.9289          \n",
       "         Neg Pred Value : 0.9945          \n",
       "             Prevalence : 0.5000          \n",
       "         Detection Rate : 0.4975          \n",
       "   Detection Prevalence : 0.5355          \n",
       "      Balanced Accuracy : 0.9594          \n",
       "                                          \n",
       "       'Positive' Class : 0               \n",
       "                                          "
      ]
     },
     "metadata": {},
     "output_type": "display_data"
    }
   ],
   "source": [
    "knn.predict <- predict(knn.model, newdata = sampled.data.train)\n",
    "\n",
    "knn.cm <- confusionMatrix(data = knn.predict, \n",
    "                          reference = sampled.data.train$Class)\n",
    "knn.cm"
   ]
  },
  {
   "cell_type": "markdown",
   "metadata": {},
   "source": [
    "After the confusion matrix was built we can plot the ROC curve for the knn model."
   ]
  },
  {
   "cell_type": "code",
   "execution_count": 37,
   "metadata": {
    "collapsed": true
   },
   "outputs": [
    {
     "name": "stderr",
     "output_type": "stream",
     "text": [
      "Setting levels: control = 0, case = 1\n",
      "Setting direction: controls < cases\n"
     ]
    },
    {
     "data": {
      "image/png": "[encoded data removed]",
      "text/plain": [
       "plot without title"
      ]
     },
     "metadata": {},
     "output_type": "display_data"
    }
   ],
   "source": [
    "knn.roc <- roc(knn.predict , as.numeric(sampled.data.train$Class))\n",
    "ggroc(knn.roc, colour = \"red\", linetype = 2)\n",
    "options(repr.plot.width= 4, repr.plot.height=3)"
   ]
  },
  {
   "cell_type": "markdown",
   "metadata": {},
   "source": [
    "### Support vector machine"
   ]
  },
  {
   "cell_type": "code",
   "execution_count": 38,
   "metadata": {
    "collapsed": true
   },
   "outputs": [
    {
     "data": {
      "text/plain": [
       "Confusion Matrix and Statistics\n",
       "\n",
       "          Reference\n",
       "Prediction   0   1\n",
       "         0 324  69\n",
       "         1  70 325\n",
       "                                          \n",
       "               Accuracy : 0.8236          \n",
       "                 95% CI : (0.7952, 0.8496)\n",
       "    No Information Rate : 0.5             \n",
       "    P-Value [Acc > NIR] : <2e-16          \n",
       "                                          \n",
       "                  Kappa : 0.6472          \n",
       "                                          \n",
       " Mcnemar's Test P-Value : 1               \n",
       "                                          \n",
       "            Sensitivity : 0.8223          \n",
       "            Specificity : 0.8249          \n",
       "         Pos Pred Value : 0.8244          \n",
       "         Neg Pred Value : 0.8228          \n",
       "             Prevalence : 0.5000          \n",
       "         Detection Rate : 0.4112          \n",
       "   Detection Prevalence : 0.4987          \n",
       "      Balanced Accuracy : 0.8236          \n",
       "                                          \n",
       "       'Positive' Class : 0               \n",
       "                                          "
      ]
     },
     "metadata": {},
     "output_type": "display_data"
    }
   ],
   "source": [
    "svm.model <- svm(Class ~ ., data = sampled.data.train, kernel = \"sigmoid\", scale = FALSE)\n",
    "\n",
    "svm.predict <- predict(svm.model, newdata = sampled.data.train)\n",
    "\n",
    "svm.cm <- confusionMatrix(data = svm.predict, \n",
    "                          reference = sampled.data.train$Class)\n",
    "svm.cm"
   ]
  },
  {
   "cell_type": "markdown",
   "metadata": {},
   "source": [
    "Roc curve for the Support vector machine model:"
   ]
  },
  {
   "cell_type": "code",
   "execution_count": 39,
   "metadata": {
    "collapsed": true
   },
   "outputs": [
    {
     "name": "stderr",
     "output_type": "stream",
     "text": [
      "Setting levels: control = 0, case = 1\n",
      "Setting direction: controls < cases\n"
     ]
    },
    {
     "data": {
      "image/png": "[encoded data removed]",
      "text/plain": [
       "plot without title"
      ]
     },
     "metadata": {},
     "output_type": "display_data"
    }
   ],
   "source": [
    "svm.roc <- roc(svm.predict, as.numeric(sampled.data.train$Class))\n",
    "ggroc(svm.roc, colour = \"red\", linetype = 2)\n",
    "options(repr.plot.width= 4, repr.plot.height=3)"
   ]
  },
  {
   "cell_type": "markdown",
   "metadata": {},
   "source": [
    "### Decision Tree"
   ]
  },
  {
   "cell_type": "code",
   "execution_count": 40,
   "metadata": {},
   "outputs": [],
   "source": [
    "dtree.model <- rpart(Class ~., data = sampled.data.train, method = 'class')"
   ]
  },
  {
   "cell_type": "code",
   "execution_count": 115,
   "metadata": {
    "collapsed": true
   },
   "outputs": [
    {
     "data": {
      "image/png": "[encoded data removed]",
      "text/plain": [
       "plot without title"
      ]
     },
     "metadata": {},
     "output_type": "display_data"
    }
   ],
   "source": [
    "rpart.plot(dtree.model, extra = 1)"
   ]
  },
  {
   "cell_type": "code",
   "execution_count": 41,
   "metadata": {
    "collapsed": true
   },
   "outputs": [
    {
     "data": {
      "text/plain": [
       "Confusion Matrix and Statistics\n",
       "\n",
       "          Reference\n",
       "Prediction   0   1\n",
       "         0 377  29\n",
       "         1  17 365\n",
       "                                          \n",
       "               Accuracy : 0.9416          \n",
       "                 95% CI : (0.9229, 0.9569)\n",
       "    No Information Rate : 0.5             \n",
       "    P-Value [Acc > NIR] : <2e-16          \n",
       "                                          \n",
       "                  Kappa : 0.8832          \n",
       "                                          \n",
       " Mcnemar's Test P-Value : 0.1048          \n",
       "                                          \n",
       "            Sensitivity : 0.9569          \n",
       "            Specificity : 0.9264          \n",
       "         Pos Pred Value : 0.9286          \n",
       "         Neg Pred Value : 0.9555          \n",
       "             Prevalence : 0.5000          \n",
       "         Detection Rate : 0.4784          \n",
       "   Detection Prevalence : 0.5152          \n",
       "      Balanced Accuracy : 0.9416          \n",
       "                                          \n",
       "       'Positive' Class : 0               \n",
       "                                          "
      ]
     },
     "metadata": {},
     "output_type": "display_data"
    }
   ],
   "source": [
    "dtree.predict <- predict(dtree.model, newdata = sampled.data.train, type = \"class\")\n",
    "\n",
    "dtree.cm <- confusionMatrix(data = dtree.predict, \n",
    "                          reference = sampled.data.train$Class)\n",
    "dtree.cm"
   ]
  },
  {
   "cell_type": "markdown",
   "metadata": {},
   "source": [
    "Roc curve for the Decision Tree model:"
   ]
  },
  {
   "cell_type": "code",
   "execution_count": 42,
   "metadata": {
    "collapsed": true
   },
   "outputs": [
    {
     "name": "stderr",
     "output_type": "stream",
     "text": [
      "Setting levels: control = 0, case = 1\n",
      "Setting direction: controls < cases\n"
     ]
    },
    {
     "data": {
      "image/png": "[encoded data removed]",
      "text/plain": [
       "plot without title"
      ]
     },
     "metadata": {},
     "output_type": "display_data"
    }
   ],
   "source": [
    "dtree.roc <- roc(dtree.predict, as.numeric(sampled.data.train$Class))\n",
    "ggroc(dtree.roc, colour = \"red\", linetype = 2)\n",
    "options(repr.plot.width= 4, repr.plot.height=3)"
   ]
  },
  {
   "cell_type": "markdown",
   "metadata": {},
   "source": [
    "## Summary\n",
    "\n",
    "With all of our analysis now done, we can compare their results and choose the best."
   ]
  },
  {
   "cell_type": "markdown",
   "metadata": {},
   "source": [
    "1. First, let's plot the ROC curves to get a visual presentation for a better comparison."
   ]
  },
  {
   "cell_type": "code",
   "execution_count": 49,
   "metadata": {
    "collapsed": true
   },
   "outputs": [
    {
     "data": {
      "image/png": "[encoded data removed]",
      "text/plain": [
       "plot without title"
      ]
     },
     "metadata": {},
     "output_type": "display_data"
    }
   ],
   "source": [
    "roc.curves <- list(log.roc = log.roc, knn.roc = knn.roc, svm.roc = svm.roc, \n",
    "                      dtree.roc = dtree.roc)\n",
    "\n",
    "ggroc(roc.curves, linetype = 1)\n",
    "options(repr.plot.width = 6, repr.plot.height = 5)"
   ]
  },
  {
   "cell_type": "markdown",
   "metadata": {},
   "source": [
    "The knn.roc curve is a little bit higher than the logistic regression curve, but it's with a large slope too."
   ]
  },
  {
   "cell_type": "code",
   "execution_count": 57,
   "metadata": {},
   "outputs": [
    {
     "name": "stdout",
     "output_type": "stream",
     "text": [
      " Recall for logistic regression is: 0.955665 \n",
      " Recall for knn is: 0.92891 \n",
      " Recall for dtree is: 0.9285714  \n",
      " Recall for suppor vector machine is: 0.8244275\n",
      "\n",
      " Precision for logistic regression is: 0.9695431 \n",
      " Precision for knn is: 0.9593909 \n",
      " Precision for dtree is: 0.9416244  \n",
      " Precision for suppor vector machine is: 0.8236041"
     ]
    }
   ],
   "source": [
    "cat(\" Recall for logistic regression is:\", log.cm$byClass[[3]], \n",
    "    \"\\n Recall for knn is:\", knn.cm$byClass[[3]],\n",
    "    \"\\n Recall for dtree is:\", dtree.cm$byClass[[3]],\n",
    "    \" \\n Recall for suppor vector machine is:\", svm.cm$byClass[[3]])\n",
    "\n",
    "cat(\"\\n\\n Precision for logistic regression is:\", log.cm$overall[[1]], \n",
    "    \"\\n Precision for knn is:\", knn.cm$overall[[1]],\n",
    "    \"\\n Precision for dtree is:\", dtree.cm$overall[[1]],\n",
    "    \" \\n Precision for suppor vector machine is:\", svm.cm$overall[[1]])"
   ]
  },
  {
   "cell_type": "markdown",
   "metadata": {},
   "source": [
    "So, the linear logistic model presents the best recall and precision scores. Now we can use the model to predict fraudulent transactions in the test sample."
   ]
  },
  {
   "cell_type": "markdown",
   "metadata": {},
   "source": [
    "## Test sample prediction"
   ]
  },
  {
   "cell_type": "code",
   "execution_count": 59,
   "metadata": {
    "collapsed": true
   },
   "outputs": [
    {
     "data": {
      "text/plain": [
       "Confusion Matrix and Statistics\n",
       "\n",
       "          Reference\n",
       "Prediction  0  1\n",
       "         0 95  3\n",
       "         1  3 95\n",
       "                                          \n",
       "               Accuracy : 0.9694          \n",
       "                 95% CI : (0.9346, 0.9887)\n",
       "    No Information Rate : 0.5             \n",
       "    P-Value [Acc > NIR] : <2e-16          \n",
       "                                          \n",
       "                  Kappa : 0.9388          \n",
       "                                          \n",
       " Mcnemar's Test P-Value : 1               \n",
       "                                          \n",
       "            Sensitivity : 0.9694          \n",
       "            Specificity : 0.9694          \n",
       "         Pos Pred Value : 0.9694          \n",
       "         Neg Pred Value : 0.9694          \n",
       "             Prevalence : 0.5000          \n",
       "         Detection Rate : 0.4847          \n",
       "   Detection Prevalence : 0.5000          \n",
       "      Balanced Accuracy : 0.9694          \n",
       "                                          \n",
       "       'Positive' Class : 0               \n",
       "                                          "
      ]
     },
     "metadata": {},
     "output_type": "display_data"
    }
   ],
   "source": [
    "test.log.predict <- predict(log.model, newdata = sampled.data.test, type = \"response\") \n",
    "\n",
    "test.log.fitted.results <- ifelse(test.log.predict > 0.5,\"1\",\"0\")\n",
    "\n",
    "test.log.cm <- confusionMatrix(data=as.factor(test.log.fitted.results), \n",
    "                          reference = as.factor(sampled.data.test$Class))\n",
    "test.log.cm"
   ]
  },
  {
   "cell_type": "code",
   "execution_count": 61,
   "metadata": {
    "collapsed": true
   },
   "outputs": [
    {
     "name": "stderr",
     "output_type": "stream",
     "text": [
      "Setting levels: control = 0, case = 1\n",
      "Setting direction: controls < cases\n"
     ]
    },
    {
     "data": {
      "image/png": "[encoded data removed]",
      "text/plain": [
       "plot without title"
      ]
     },
     "metadata": {},
     "output_type": "display_data"
    }
   ],
   "source": [
    "test.log.roc <- roc(test.log.fitted.results, sampled.data.test$Class)\n",
    "ggroc(log.roc, colour = \"red\", linetype = 2)\n",
    "options(repr.plot.width= 4, repr.plot.height=3)"
   ]
  },
  {
   "cell_type": "code",
   "execution_count": 67,
   "metadata": {},
   "outputs": [
    {
     "name": "stdout",
     "output_type": "stream",
     "text": [
      " Recall for test sample after logistic regression is: 0.9693878 \n",
      " Precision for for test sample after logistic regression is: 0.9693878"
     ]
    }
   ],
   "source": [
    "cat(\" Recall for test sample after logistic regression is:\", test.log.cm$byClass[[3]], \n",
    "    \"\\n Precision for for test sample after logistic regression is:\", test.log.cm$overall[[1]])"
   ]
  },
  {
   "cell_type": "markdown",
   "metadata": {},
   "source": [
    "## Conclucion\n",
    "\n",
    "After establishing a very large difference in the number of fraudulent and regular transactions, we conducted a random Under-Sampling to equalize the number of observations in both classes. We split the data to train and test samples, after which we conducted four analysis to find the best one in fraudulent transaction prediction. We achived our goal and found the best model based on recall score and this is the logistic model with recall 0.956. We predicted the test sample and our score is recall equal to 0.969.\n",
    "The large problems with this dataset include a very imbalanced data and hidden variables names, so we cannot make any logic interpretation of the correlations and results as such. Maybe that could be a positive, but the only way we can utilise this dataset is to produce different types of analysis."
   ]
  }
 ],
 "metadata": {
  "kernelspec": {
   "display_name": "R",
   "language": "R",
   "name": "ir"
  },
  "language_info": {
   "codemirror_mode": "r",
   "file_extension": ".r",
   "mimetype": "text/x-r-source",
   "name": "R",
   "pygments_lexer": "r",
   "version": "3.6.1"
  }
 },
 "nbformat": 4,
 "nbformat_minor": 4
}
